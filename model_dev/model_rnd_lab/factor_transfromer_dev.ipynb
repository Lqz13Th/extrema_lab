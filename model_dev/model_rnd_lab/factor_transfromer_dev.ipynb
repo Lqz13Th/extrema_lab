{
 "cells": [
  {
   "cell_type": "code",
   "execution_count": null,
   "id": "1ee520c8-4227-4aa1-a19e-8a6a3562040f",
   "metadata": {},
   "outputs": [],
   "source": [
    "import polars as pl\n",
    "df = safe_fillna_polars(df)  # 或者用 pandas 的 safe_fillna\n"
   ]
  },
  {
   "cell_type": "code",
   "execution_count": null,
   "id": "0a722126-42f7-429f-8eea-33aefc076648",
   "metadata": {},
   "outputs": [],
   "source": [
    "import polars as pl\n",
    "df = safe_fillna_polars(df)  # 或者用 pandas 的 safe_fillna\n"
   ]
  },
  {
   "cell_type": "code",
   "execution_count": 1,
   "id": "b582b2ab-219c-4cf4-b8bf-165f0fd2cd5f",
   "metadata": {},
   "outputs": [
    {
     "ename": "NameError",
     "evalue": "name 'X_scaled' is not defined",
     "output_type": "error",
     "traceback": [
      "\u001b[1;31m---------------------------------------------------------------------------\u001b[0m",
      "\u001b[1;31mNameError\u001b[0m                                 Traceback (most recent call last)",
      "Cell \u001b[1;32mIn[1], line 5\u001b[0m\n\u001b[0;32m      2\u001b[0m \u001b[38;5;28;01mfrom\u001b[39;00m\u001b[38;5;250m \u001b[39m\u001b[38;5;21;01mtorch\u001b[39;00m\u001b[38;5;250m \u001b[39m\u001b[38;5;28;01mimport\u001b[39;00m nn\n\u001b[0;32m      3\u001b[0m \u001b[38;5;28;01mfrom\u001b[39;00m\u001b[38;5;250m \u001b[39m\u001b[38;5;21;01mtorch\u001b[39;00m\u001b[38;5;21;01m.\u001b[39;00m\u001b[38;5;21;01mutils\u001b[39;00m\u001b[38;5;21;01m.\u001b[39;00m\u001b[38;5;21;01mdata\u001b[39;00m\u001b[38;5;250m \u001b[39m\u001b[38;5;28;01mimport\u001b[39;00m DataLoader, TensorDataset\n\u001b[1;32m----> 5\u001b[0m X \u001b[38;5;241m=\u001b[39m torch\u001b[38;5;241m.\u001b[39mtensor(\u001b[43mX_scaled\u001b[49m, dtype\u001b[38;5;241m=\u001b[39mtorch\u001b[38;5;241m.\u001b[39mfloat32)\n\u001b[0;32m      7\u001b[0m \u001b[38;5;66;03m# 随机遮挡 15% 的因子\u001b[39;00m\n\u001b[0;32m      8\u001b[0m mask_ratio \u001b[38;5;241m=\u001b[39m \u001b[38;5;241m0.15\u001b[39m\n",
      "\u001b[1;31mNameError\u001b[0m: name 'X_scaled' is not defined"
     ]
    }
   ],
   "source": [
    "import torch\n",
    "from torch import nn\n",
    "from torch.utils.data import DataLoader, TensorDataset\n",
    "\n",
    "X = torch.tensor(X_scaled, dtype=torch.float32)\n",
    "\n",
    "# 随机遮挡 15% 的因子\n",
    "mask_ratio = 0.15\n",
    "mask = torch.rand_like(X) < mask_ratio\n",
    "X_masked = X.clone()\n",
    "X_masked[mask] = 0.0  # 0表示mask\n",
    "\n",
    "dataset = TensorDataset(X_masked, X)  # 输入 = mask 后, 目标 = 原始因子\n",
    "loader = DataLoader(dataset, batch_size=64, shuffle=True)\n",
    "\n",
    "# 简单 Transformer\n",
    "class FactorTransformer(nn.Module):\n",
    "    def __init__(self, n_features, d_model=64, n_heads=4, n_layers=2):\n",
    "        super().__init__()\n",
    "        self.embedding = nn.Linear(n_features, d_model)\n",
    "        encoder_layer = nn.TransformerEncoderLayer(d_model=d_model, nhead=n_heads)\n",
    "        self.transformer = nn.TransformerEncoder(encoder_layer, num_layers=n_layers)\n",
    "        self.decoder = nn.Linear(d_model, n_features)\n",
    "\n",
    "    def forward(self, x):\n",
    "        x = self.embedding(x)  # [batch, n_features] -> [batch, d_model]\n",
    "        x = x.unsqueeze(1)     # [batch, seq=1, d_model]\n",
    "        x = self.transformer(x).squeeze(1)\n",
    "        return self.decoder(x)\n",
    "\n",
    "model = FactorTransformer(n_features=X.shape[1])\n",
    "optimizer = torch.optim.Adam(model.parameters(), lr=1e-3)\n",
    "loss_fn = nn.MSELoss()\n",
    "\n",
    "# 训练\n",
    "for epoch in range(20):\n",
    "    for xb, yb in loader:\n",
    "        optimizer.zero_grad()\n",
    "        pred = model(xb)\n",
    "        loss = loss_fn(pred, yb)\n",
    "        loss.backward()\n",
    "        optimizer.step()\n",
    "    print(f\"Epoch {epoch} loss={loss.item():.6f}\")\n"
   ]
  },
  {
   "cell_type": "code",
   "execution_count": null,
   "id": "d1827c3e-a6bb-486b-9094-7c746365871e",
   "metadata": {},
   "outputs": [],
   "source": [
    "embeddings = model.embedding(X)  # [batch, d_model]\n",
    "\n",
    "# 下游预测未来收益率\n",
    "from sklearn.linear_model import LinearRegression\n",
    "y = torch.tensor(future_returns, dtype=torch.float32)\n",
    "reg = LinearRegression().fit(embeddings.detach().numpy(), y.numpy())\n"
   ]
  },
  {
   "cell_type": "code",
   "execution_count": null,
   "id": "ecb1ec52-f1dd-40eb-8b45-3bbb862072a7",
   "metadata": {},
   "outputs": [],
   "source": [
    "from pytorch_tabnet.tab_model import TabNetRegressor\n",
    "tabnet = TabNetRegressor()\n",
    "tabnet.fit(X_train=embeddings.detach().numpy(), y_train=y.numpy())\n"
   ]
  }
 ],
 "metadata": {
  "kernelspec": {
   "display_name": "Python (EI_Lab)",
   "language": "python",
   "name": "ei_lab"
  },
  "language_info": {
   "codemirror_mode": {
    "name": "ipython",
    "version": 3
   },
   "file_extension": ".py",
   "mimetype": "text/x-python",
   "name": "python",
   "nbconvert_exporter": "python",
   "pygments_lexer": "ipython3",
   "version": "3.10.18"
  }
 },
 "nbformat": 4,
 "nbformat_minor": 5
}
